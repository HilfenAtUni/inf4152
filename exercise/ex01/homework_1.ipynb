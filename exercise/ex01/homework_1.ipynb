{
 "cells": [
  {
   "cell_type": "markdown",
   "metadata": {},
   "source": [
    "# Data Mining and Probabilistic Reasoning, WS18/19\n",
    "\n",
    "\n",
    "Dr. Gjergji Kasneci, The University of Tübingen"
   ]
  },
  {
   "cell_type": "markdown",
   "metadata": {},
   "source": [
    "-----\n",
    "## Homework 1\n",
    "-----\n",
    "\n",
    "**Note:** Please add your solution to the homework in this Jupyter Notebook and upload it to Ilias. Make sure you use the following naming convention: `homework_1_[lastname]_[firstname]_[matrikelnr].ipynb`\n",
    "\n",
    "###### Date 29/10/2018\n",
    "\n",
    "Teaching assistants:\n",
    "\n",
    " - Vadim Borisov (vadim.borisov@uni-tuebingen.de)\n",
    "\n",
    " - Johannes Haug (johannes-christian.haug@uni-tuebingen.de)"
   ]
  },
  {
   "cell_type": "markdown",
   "metadata": {},
   "source": [
    "# Load data"
   ]
  },
  {
   "cell_type": "code",
   "execution_count": 22,
   "metadata": {},
   "outputs": [],
   "source": [
    "import pandas as pd\n",
    "import numpy as np\n",
    "\n",
    "wine = pd.read_csv('./data/wine_data.csv', delim_whitespace=1) #you might have to change the path!"
   ]
  },
  {
   "cell_type": "markdown",
   "metadata": {},
   "source": [
    "## 1. Task: Function to compute the variance\n",
    "Implement a Python function that takes a variable (as pandas Series) as an input and returns its variance. Do not use the build in functions of pandas or numpy! Remember how we computed the variance during the exercise session."
   ]
  },
  {
   "cell_type": "code",
   "execution_count": 23,
   "metadata": {},
   "outputs": [],
   "source": [
    "def calc_var(x):\n",
    "    mean = np.sum(x)/np.size(x)\n",
    "    sum_x = 0\n",
    "    for xx in x:\n",
    "        x_mean_2 = (xx - mean)**2\n",
    "        sum_x += x_mean_2\n",
    "    var = sum_x / len(x)\n",
    "    return var\n",
    "\n",
    "# print(\"{:.3f}\\n{:.3f}\".format(calc_var(wine.values[:,1]), np.var(wine.values[:,1])))\n"
   ]
  },
  {
   "cell_type": "markdown",
   "metadata": {},
   "source": [
    "## 2. Task: Function to compute covariance\n",
    "Implement a Python function that takes two variables (as pandas Series) as an input and returns their covariance. Do not use the build in functions of pandas or numpy! Remember how we computed the covariance during the exercise session."
   ]
  },
  {
   "cell_type": "code",
   "execution_count": 24,
   "metadata": {},
   "outputs": [],
   "source": [
    "def calc_cov(x1, x2):\n",
    "    mean_x1 = np.sum(x1)/np.size(x1)\n",
    "    mean_x2 = np.sum(x2)/np.size(x2)\n",
    "    cov = 0\n",
    "    for xx1, xx2 in zip(x1, x2):\n",
    "        cov += (xx1 - mean_x1)*(xx2-mean_x2)\n",
    "    cov = cov/np.size(x1)\n",
    "    return cov"
   ]
  },
  {
   "cell_type": "markdown",
   "metadata": {},
   "source": [
    "## 3. Task: Function to compute correlation\n",
    "Implement a Python function that takes the covariance and the standard deviation of two variables as an input and returns their Pearson correlation coefficient. Do not use the build in functions of pandas or numpy! Remember how we computed the correlation during the exercise session. Also remember the relationship between standard deviation and variance."
   ]
  },
  {
   "cell_type": "code",
   "execution_count": 25,
   "metadata": {},
   "outputs": [],
   "source": [
    "def calc_corr(x1, x2):\n",
    "    x1_std, x2_std = np.std(x1), np.std(x2)\n",
    "    return calc_cov(x1, x2)/(x1_std*x2_std)"
   ]
  },
  {
   "cell_type": "markdown",
   "metadata": {},
   "source": [
    "## 4. Task: Compute metrics for different variables\n",
    "Compute the variance, covariance and correlation of 3 different combinations of variables. Use the functions implemented before."
   ]
  },
  {
   "cell_type": "code",
   "execution_count": 26,
   "metadata": {},
   "outputs": [
    {
     "name": "stdout",
     "output_type": "stream",
     "text": [
      "Alcohol & Density: var_alc = 1.4223, var_dens = 1e-05, cov = -0.0025, corr = -0.6867\n",
      "Residual Sugar & Sulfur Dioxide: var_sug = 22.6332, var_sulf = 3194.2283, cov = 133.2243, corr = 0.4955\n",
      "Acidity & Chlorides: var_acd = 0.0271, var_chl = 0.0012, cov = 0.0022, corr = 0.3771\n"
     ]
    }
   ],
   "source": [
    "#Variables: Alcohol_(%), Density_(g/cm3)\n",
    "col1 = wine['Alcohol_(%)']\n",
    "col2 = wine['Density_(g/cm3)']\n",
    "var_alc = calc_var(col1)\n",
    "var_dens = calc_var(col2)\n",
    "cov_alc_dens = calc_cov(col1, col2)\n",
    "corr_alc_dens = calc_corr(col1, col2)\n",
    "print('Alcohol & Density: var_alc = {}, var_dens = {}, cov = {}, corr = {}'.format(round(var_alc,4),\n",
    "                                                                                   round(var_dens,5),\n",
    "                                                                                   round(cov_alc_dens,4),\n",
    "                                                                                   round(corr_alc_dens,4)))\n",
    "\n",
    "#Variables: Residual_sugar_(g/l), Total_sulfur_dioxide_(mg/l)\n",
    "col3 = wine['Residual_sugar_(g/l)']\n",
    "col4 = wine['Total_sulfur_dioxide_(mg/l)']\n",
    "var_sug = calc_var(col3)\n",
    "var_sulf = calc_var(col4)\n",
    "cov_sug_sulf = calc_cov(col3, col4)\n",
    "corr_sug_sulf = calc_corr(col3, col4)\n",
    "print('Residual Sugar & Sulfur Dioxide: var_sug = {}, var_sulf = {}, cov = {}, corr = {}'.format(round(var_sug,4),\n",
    "                                                                                   round(var_sulf,4),\n",
    "                                                                                   round(cov_sug_sulf,4),\n",
    "                                                                                   round(corr_sug_sulf,4)))\n",
    "\n",
    "#variables: Volatile_acidity_(g/l), Chlorides_(g/l)\n",
    "col5 = wine['Volatile_acidity_(g/l)']\n",
    "col6 = wine['Chlorides_(g/l)']\n",
    "var_acd = calc_var(col5)\n",
    "var_chl = calc_var(col6)\n",
    "cov_acd_chl = calc_cov(col5, col6)\n",
    "corr_acd_chl = calc_corr(col5, col6)\n",
    "print('Acidity & Chlorides: var_acd = {}, var_chl = {}, cov = {}, corr = {}'.format(round(var_acd,4),\n",
    "                                                                                   round(var_chl,4),\n",
    "                                                                                   round(cov_acd_chl,4),\n",
    "                                                                                   round(corr_acd_chl,4)))"
   ]
  },
  {
   "cell_type": "markdown",
   "metadata": {},
   "source": [
    "## 5. Task: Count the frequency of the target feature [`quality`] \n",
    "Hint: look into the Pandas tutorial."
   ]
  },
  {
   "cell_type": "code",
   "execution_count": 29,
   "metadata": {},
   "outputs": [
    {
     "name": "stdout",
     "output_type": "stream",
     "text": [
      "qualities:\n",
      "6    2836\n",
      "5    2138\n",
      "7    1079\n",
      "4     216\n",
      "8     193\n",
      "3      30\n",
      "9       5\n",
      "Name: quality, dtype: int64\n"
     ]
    }
   ],
   "source": [
    "# your code (apx 1 line)\n",
    "qualities = wine['quality'].value_counts()\n",
    "print(\"qualities:\\n{}\".format(qualities))"
   ]
  },
  {
   "cell_type": "markdown",
   "metadata": {},
   "source": [
    "## 6. Task: Is it true that mean pH for the Red wine is bigger than White wine?\n",
    "Please answer with using code."
   ]
  },
  {
   "cell_type": "code",
   "execution_count": 31,
   "metadata": {},
   "outputs": [
    {
     "name": "stdout",
     "output_type": "stream",
     "text": [
      "red:3.311, white:3.188\n"
     ]
    }
   ],
   "source": [
    "# your code\n",
    "means_ph = wine.groupby('Type')['pH'].mean()\n",
    "print(\"red:{:.3f}, white:{:.3f}\".format(means_ph['red'], means_ph['white']))"
   ]
  }
 ],
 "metadata": {
  "kernelspec": {
   "display_name": "Python 3",
   "language": "python",
   "name": "python3"
  },
  "language_info": {
   "codemirror_mode": {
    "name": "ipython",
    "version": 3
   },
   "file_extension": ".py",
   "mimetype": "text/x-python",
   "name": "python",
   "nbconvert_exporter": "python",
   "pygments_lexer": "ipython3",
   "version": "3.7.0b3"
  }
 },
 "nbformat": 4,
 "nbformat_minor": 2
}
