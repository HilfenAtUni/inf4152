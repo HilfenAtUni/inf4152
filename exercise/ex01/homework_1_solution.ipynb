{
 "cells": [
  {
   "cell_type": "markdown",
   "metadata": {},
   "source": [
    "# Data Mining and Probabilistic Reasoning, WS18/19\n",
    "\n",
    "\n",
    "Dr. Gjergji Kasneci, The University of Tübingen"
   ]
  },
  {
   "cell_type": "markdown",
   "metadata": {},
   "source": [
    "-----\n",
    "## Homework 1 Solution\n",
    "-----\n",
    "\n",
    "**Note:** Please add your solution to the homework in this Jupyter Notebook and upload it to Ilias. Make sure you use the following naming convention: `homework_1_[lastname]_[firstname]_[matrikelnr].ipynb`\n",
    "\n",
    "###### Date 29/10/2018\n",
    "\n",
    "Teaching assistants:\n",
    "\n",
    " - Vadim Borisov (vadim.borisov@uni-tuebingen.de)\n",
    "\n",
    " - Johannes Haug (johannes-christian.haug@uni-tuebingen.de)"
   ]
  },
  {
   "cell_type": "markdown",
   "metadata": {},
   "source": [
    "# Load data"
   ]
  },
  {
   "cell_type": "code",
   "execution_count": 1,
   "metadata": {},
   "outputs": [],
   "source": [
    "import pandas as pd\n",
    "import numpy as np\n",
    "\n",
    "wine = pd.read_csv('./data/wine_data.csv', delim_whitespace=1) #you might have to change the path!"
   ]
  },
  {
   "cell_type": "markdown",
   "metadata": {},
   "source": [
    "## 1. Task: Function to compute the variance\n",
    "Implement a Python function that takes a variable (as pandas Series) as an input and returns its variance. Do not use the build in functions of pandas or numpy! Remember how we computed the variance during the exercise session."
   ]
  },
  {
   "cell_type": "code",
   "execution_count": 3,
   "metadata": {},
   "outputs": [],
   "source": [
    "def calc_var(v):\n",
    "    n = len(v)\n",
    "    X = v.mean()\n",
    "\n",
    "    sum_of_X_diff = 0\n",
    "\n",
    "    for x in v:\n",
    "        sum_of_X_diff += (x-X)**2\n",
    "\n",
    "    S = sum_of_X_diff/n\n",
    "        \n",
    "    return S"
   ]
  },
  {
   "cell_type": "markdown",
   "metadata": {},
   "source": [
    "## 2. Task: Function to compute covariance\n",
    "Implement a Python function that takes two variables (as pandas Series) as an input and returns their covariance. Do not use the build in functions of pandas or numpy! Remember how we computed the covariance during the exercise session."
   ]
  },
  {
   "cell_type": "code",
   "execution_count": 4,
   "metadata": {},
   "outputs": [],
   "source": [
    "def calc_cov(v1,v2):\n",
    "    n = len(v1)\n",
    "    X = v1.mean()\n",
    "    Y = v2.mean()\n",
    "\n",
    "    sum_of_products = 0\n",
    "\n",
    "    for x,y in zip(v1, v2):\n",
    "        sum_of_products += (x-X)*(y-Y)\n",
    "\n",
    "    C = sum_of_products/n\n",
    "    \n",
    "    return C"
   ]
  },
  {
   "cell_type": "markdown",
   "metadata": {},
   "source": [
    "## 3. Task: Function to compute correlation\n",
    "Implement a Python function that takes the covariance and the standard deviation of two variables as an input and returns their Pearson correlation coefficient. Do not use the build in functions of pandas or numpy! Remember how we computed the correlation during the exercise session. Also remember the relationship between standard deviation and variance."
   ]
  },
  {
   "cell_type": "code",
   "execution_count": 5,
   "metadata": {},
   "outputs": [],
   "source": [
    "def calc_corr(cov,std1,std2):\n",
    "    \n",
    "    r = cov/(std1*std2)\n",
    "    \n",
    "    return r"
   ]
  },
  {
   "cell_type": "markdown",
   "metadata": {},
   "source": [
    "## 4. Task: Compute metrics for different variables\n",
    "Compute the variance, covariance and correlation of 3 different combinations of variables. Use the functions implemented before."
   ]
  },
  {
   "cell_type": "code",
   "execution_count": 6,
   "metadata": {},
   "outputs": [
    {
     "name": "stdout",
     "output_type": "stream",
     "text": [
      "Alcohol & Density: var_alc = 1.4223, var_dens = 1e-05, cov = -0.0025, corr = -0.6867\n",
      "Residual Sugar & Sulfur Dioxide: var_sug = 22.6332, var_sulf = 3194.2283, cov = 133.2243, corr = 0.4955\n",
      "Acidity & Chlorides: var_acd = 0.0271, var_chl = 0.0012, cov = 0.0022, corr = 0.3771\n"
     ]
    }
   ],
   "source": [
    "#Variables: Alcohol_(%), Density_(g/cm3)\n",
    "var_alc = calc_var(wine['Alcohol_(%)'])\n",
    "var_dens = calc_var(wine['Density_(g/cm3)'])\n",
    "cov_alc_dens = calc_cov(wine['Alcohol_(%)'],wine['Density_(g/cm3)'])\n",
    "corr_alc_dens = calc_corr(cov_alc_dens,var_alc**(1/2),var_dens**(1/2))\n",
    "print('Alcohol & Density: var_alc = {}, var_dens = {}, cov = {}, corr = {}'.format(round(var_alc,4),\n",
    "                                                                                   round(var_dens,5),\n",
    "                                                                                   round(cov_alc_dens,4),\n",
    "                                                                                   round(corr_alc_dens,4)))\n",
    "\n",
    "#Variables: Residual_sugar_(g/l), Total_sulfur_dioxide_(mg/l)\n",
    "var_sug = calc_var(wine['Residual_sugar_(g/l)'])\n",
    "var_sulf = calc_var(wine['Total_sulfur_dioxide_(mg/l)'])\n",
    "cov_sug_sulf = calc_cov(wine['Residual_sugar_(g/l)'],wine['Total_sulfur_dioxide_(mg/l)'])\n",
    "corr_sug_sulf = calc_corr(cov_sug_sulf,var_sug**(1/2),var_sulf**(1/2))\n",
    "print('Residual Sugar & Sulfur Dioxide: var_sug = {}, var_sulf = {}, cov = {}, corr = {}'.format(round(var_sug,4),\n",
    "                                                                                   round(var_sulf,4),\n",
    "                                                                                   round(cov_sug_sulf,4),\n",
    "                                                                                   round(corr_sug_sulf,4)))\n",
    "\n",
    "#variables: Volatile_acidity_(g/l), Chlorides_(g/l)\n",
    "var_acd = calc_var(wine['Volatile_acidity_(g/l)'])\n",
    "var_chl = calc_var(wine['Chlorides_(g/l)'])\n",
    "cov_acd_chl = calc_cov(wine['Volatile_acidity_(g/l)'],wine['Chlorides_(g/l)'])\n",
    "corr_acd_chl = calc_corr(cov_acd_chl,var_acd**(1/2),var_chl**(1/2))\n",
    "print('Acidity & Chlorides: var_acd = {}, var_chl = {}, cov = {}, corr = {}'.format(round(var_acd,4),\n",
    "                                                                                   round(var_chl,4),\n",
    "                                                                                   round(cov_acd_chl,4),\n",
    "                                                                                   round(corr_acd_chl,4)))"
   ]
  },
  {
   "cell_type": "code",
   "execution_count": 18,
   "metadata": {},
   "outputs": [
    {
     "data": {
      "text/html": [
       "<div>\n",
       "<style scoped>\n",
       "    .dataframe tbody tr th:only-of-type {\n",
       "        vertical-align: middle;\n",
       "    }\n",
       "\n",
       "    .dataframe tbody tr th {\n",
       "        vertical-align: top;\n",
       "    }\n",
       "\n",
       "    .dataframe thead th {\n",
       "        text-align: right;\n",
       "    }\n",
       "</style>\n",
       "<table border=\"1\" class=\"dataframe\">\n",
       "  <thead>\n",
       "    <tr style=\"text-align: right;\">\n",
       "      <th></th>\n",
       "      <th>Type</th>\n",
       "      <th>Fixed_acidity_(g/l)</th>\n",
       "      <th>Volatile_acidity_(g/l)</th>\n",
       "      <th>Citric_acid_(g/l)</th>\n",
       "      <th>Residual_sugar_(g/l)</th>\n",
       "      <th>Chlorides_(g/l)</th>\n",
       "      <th>Free_sulfur_dioxide_(mg/l)</th>\n",
       "      <th>Total_sulfur_dioxide_(mg/l)</th>\n",
       "      <th>Density_(g/cm3)</th>\n",
       "      <th>pH</th>\n",
       "      <th>Sulphates_(g/l)</th>\n",
       "      <th>Alcohol_(%)</th>\n",
       "      <th>quality</th>\n",
       "    </tr>\n",
       "  </thead>\n",
       "  <tbody>\n",
       "    <tr>\n",
       "      <th>0</th>\n",
       "      <td>red</td>\n",
       "      <td>7.4</td>\n",
       "      <td>0.70</td>\n",
       "      <td>0.00</td>\n",
       "      <td>1.9</td>\n",
       "      <td>0.076</td>\n",
       "      <td>11.0</td>\n",
       "      <td>34.0</td>\n",
       "      <td>0.9978</td>\n",
       "      <td>3.51</td>\n",
       "      <td>0.56</td>\n",
       "      <td>9.4</td>\n",
       "      <td>5</td>\n",
       "    </tr>\n",
       "    <tr>\n",
       "      <th>1</th>\n",
       "      <td>red</td>\n",
       "      <td>7.8</td>\n",
       "      <td>0.88</td>\n",
       "      <td>0.00</td>\n",
       "      <td>2.6</td>\n",
       "      <td>0.098</td>\n",
       "      <td>25.0</td>\n",
       "      <td>67.0</td>\n",
       "      <td>0.9968</td>\n",
       "      <td>3.20</td>\n",
       "      <td>0.68</td>\n",
       "      <td>9.8</td>\n",
       "      <td>5</td>\n",
       "    </tr>\n",
       "    <tr>\n",
       "      <th>2</th>\n",
       "      <td>red</td>\n",
       "      <td>7.8</td>\n",
       "      <td>0.76</td>\n",
       "      <td>0.04</td>\n",
       "      <td>2.3</td>\n",
       "      <td>0.092</td>\n",
       "      <td>15.0</td>\n",
       "      <td>54.0</td>\n",
       "      <td>0.9970</td>\n",
       "      <td>3.26</td>\n",
       "      <td>0.65</td>\n",
       "      <td>9.8</td>\n",
       "      <td>5</td>\n",
       "    </tr>\n",
       "    <tr>\n",
       "      <th>3</th>\n",
       "      <td>red</td>\n",
       "      <td>11.2</td>\n",
       "      <td>0.28</td>\n",
       "      <td>0.56</td>\n",
       "      <td>1.9</td>\n",
       "      <td>0.075</td>\n",
       "      <td>17.0</td>\n",
       "      <td>60.0</td>\n",
       "      <td>0.9980</td>\n",
       "      <td>3.16</td>\n",
       "      <td>0.58</td>\n",
       "      <td>9.8</td>\n",
       "      <td>6</td>\n",
       "    </tr>\n",
       "    <tr>\n",
       "      <th>4</th>\n",
       "      <td>red</td>\n",
       "      <td>7.4</td>\n",
       "      <td>0.70</td>\n",
       "      <td>0.00</td>\n",
       "      <td>1.9</td>\n",
       "      <td>0.076</td>\n",
       "      <td>11.0</td>\n",
       "      <td>34.0</td>\n",
       "      <td>0.9978</td>\n",
       "      <td>3.51</td>\n",
       "      <td>0.56</td>\n",
       "      <td>9.4</td>\n",
       "      <td>5</td>\n",
       "    </tr>\n",
       "  </tbody>\n",
       "</table>\n",
       "</div>"
      ],
      "text/plain": [
       "  Type  Fixed_acidity_(g/l)  Volatile_acidity_(g/l)  Citric_acid_(g/l)  \\\n",
       "0  red                  7.4                    0.70               0.00   \n",
       "1  red                  7.8                    0.88               0.00   \n",
       "2  red                  7.8                    0.76               0.04   \n",
       "3  red                 11.2                    0.28               0.56   \n",
       "4  red                  7.4                    0.70               0.00   \n",
       "\n",
       "   Residual_sugar_(g/l)  Chlorides_(g/l)  Free_sulfur_dioxide_(mg/l)  \\\n",
       "0                   1.9            0.076                        11.0   \n",
       "1                   2.6            0.098                        25.0   \n",
       "2                   2.3            0.092                        15.0   \n",
       "3                   1.9            0.075                        17.0   \n",
       "4                   1.9            0.076                        11.0   \n",
       "\n",
       "   Total_sulfur_dioxide_(mg/l)  Density_(g/cm3)    pH  Sulphates_(g/l)  \\\n",
       "0                         34.0           0.9978  3.51             0.56   \n",
       "1                         67.0           0.9968  3.20             0.68   \n",
       "2                         54.0           0.9970  3.26             0.65   \n",
       "3                         60.0           0.9980  3.16             0.58   \n",
       "4                         34.0           0.9978  3.51             0.56   \n",
       "\n",
       "   Alcohol_(%)  quality  \n",
       "0          9.4        5  \n",
       "1          9.8        5  \n",
       "2          9.8        5  \n",
       "3          9.8        6  \n",
       "4          9.4        5  "
      ]
     },
     "execution_count": 18,
     "metadata": {},
     "output_type": "execute_result"
    }
   ],
   "source": [
    "wine.head()"
   ]
  },
  {
   "cell_type": "markdown",
   "metadata": {},
   "source": [
    "## 5. Task: Count the frequency of the target feature [`quality`] \n",
    "Hint: look into the Pandas tutorial."
   ]
  },
  {
   "cell_type": "code",
   "execution_count": 24,
   "metadata": {},
   "outputs": [
    {
     "data": {
      "text/plain": [
       "6    2836\n",
       "5    2138\n",
       "7    1079\n",
       "4     216\n",
       "8     193\n",
       "3      30\n",
       "9       5\n",
       "Name: quality, dtype: int64"
      ]
     },
     "execution_count": 24,
     "metadata": {},
     "output_type": "execute_result"
    }
   ],
   "source": [
    "wine['quality'].value_counts()"
   ]
  },
  {
   "cell_type": "markdown",
   "metadata": {},
   "source": [
    "## 6. Task: Is it true that mean pH for the Red wine is bigger than White wine?\n",
    "Please answer with using code."
   ]
  },
  {
   "cell_type": "code",
   "execution_count": 25,
   "metadata": {},
   "outputs": [
    {
     "data": {
      "text/plain": [
       "Type\n",
       "red      3.311113\n",
       "white    3.188267\n",
       "Name: pH, dtype: float64"
      ]
     },
     "execution_count": 25,
     "metadata": {},
     "output_type": "execute_result"
    }
   ],
   "source": [
    "wine.groupby('Type')['pH'].mean()"
   ]
  },
  {
   "cell_type": "code",
   "execution_count": null,
   "metadata": {},
   "outputs": [],
   "source": []
  }
 ],
 "metadata": {
  "kernelspec": {
   "display_name": "Python 3",
   "language": "python",
   "name": "python3"
  },
  "language_info": {
   "codemirror_mode": {
    "name": "ipython",
    "version": 3
   },
   "file_extension": ".py",
   "mimetype": "text/x-python",
   "name": "python",
   "nbconvert_exporter": "python",
   "pygments_lexer": "ipython3",
   "version": "3.7.0b3"
  }
 },
 "nbformat": 4,
 "nbformat_minor": 2
}
